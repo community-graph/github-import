{
 "cells": [
  {
   "cell_type": "code",
   "execution_count": null,
   "metadata": {
    "collapsed": false
   },
   "outputs": [],
   "source": [
    "import os\n",
    "import time\n",
    "import requests\n",
    "from neo4j.v1 import GraphDatabase, basic_auth\n",
    "\n",
    "neo4jUrl = os.environ.get('NEO4J_URL',\"bolt://localhost:7687\")\n",
    "neo4jUrl = \"bolt://localhost:7687\"\n",
    "neo4jUser = os.environ.get('NEO4J_USER',\"neo4j\")\n",
    "neo4jPass = os.environ.get('NEO4J_PASSWORD',\"test\")\n",
    "ghToken = os.environ.get('GITHUB_TOKEN',None)\n",
    "\n",
    "driver = GraphDatabase.driver(neo4jUrl, auth=basic_auth(neo4jUser, neo4jPass))\n",
    "\n",
    "session = driver.session()"
   ]
  },
  {
   "cell_type": "code",
   "execution_count": null,
   "metadata": {
    "collapsed": true
   },
   "outputs": [],
   "source": [
    "# Build query.\n",
    "importQuery = \"\"\"\n",
    "WITH {json} as data\n",
    "UNWIND data.items as r\n",
    "MERGE (repo:Repository:GitHub {id:r.id}) \n",
    "  ON CREATE SET repo.title = r.name, repo.full_name=r.full_name, repo.url = r.html_url, repo.created = r.created_at,\n",
    "  repo.homepage = r.homepage\n",
    "SET repo.favorites = r.stargazers_count, repo.updated = r.updated_at, repo.pushed = r.pushed_at,repo.size = r.size,\n",
    " repo.score = r.score, repo.watchers = r.watchers, repo.language = r.language, repo.forks = r.forks_count, \n",
    "repo.open_issues = r.open_issues, repo.branch = r.default_branch, repo.description = r.description\n",
    "\n",
    "MERGE (owner:User:GitHub {id:r.owner.id}) ON CREATE SET owner.name = r.owner.login, owner.type=r.owner.type\n",
    "MERGE (owner)-[:CREATED]->(repo)\n",
    "\"\"\"\n",
    "# todo tags, languages, members, issues, pull requests"
   ]
  },
  {
   "cell_type": "code",
   "execution_count": null,
   "metadata": {
    "collapsed": false
   },
   "outputs": [],
   "source": [
    "search=\"neo4j\" #%20created:>2016-01-01\"\n",
    "page=1\n",
    "items=100\n",
    "hasMore=True\n",
    "total=0\n",
    "\n",
    "while hasMore == True:\n",
    "    # Build URL.\n",
    "    # TODO authenticated request\n",
    "    apiUrl = \"https://api.github.com/search/repositories?q={search}&fork=only&page={page}&per_page={items}\".format(search=search,items=items,page=page)\n",
    "#    if maxDate <> None:\n",
    "#        apiUrl += \"&min={maxDate}\".format(maxDate=maxDate)\n",
    "    response = requests.get(apiUrl, headers = {\"accept\":\"application/json\"})\n",
    "    if response.status_code != 200:\n",
    "        print(response.status_code,response.text)\n",
    "    json = response.json()\n",
    "    total = json.get(\"total_count\",0)\n",
    "#    total = 100\n",
    "    if json.get(\"items\",None) != None:\n",
    "        print(len(json[\"items\"]))\n",
    "        result = session.run(importQuery,{\"json\":json})\n",
    "        print(result.consume().counters)\n",
    "        page = page + 1\n",
    "        \n",
    "    hasMore = page * items < total\n",
    "    print(\"hasMore\",hasMore,\"page\",page,\"total\",total)\n",
    "\n",
    "#    if json.get('quota_remaining',0) <= 0:\n",
    "    time.sleep(10)\n",
    "#    if json.get('backoff',None) != None:\n",
    "#        print(\"backoff\",json['backoff'])\n",
    "#        time.sleep(json['backoff']+5)"
   ]
  },
  {
   "cell_type": "code",
   "execution_count": null,
   "metadata": {
    "collapsed": true
   },
   "outputs": [],
   "source": [
    "session.close()"
   ]
  }
 ],
 "metadata": {
  "kernelspec": {
   "display_name": "Python 2",
   "language": "python",
   "name": "python2"
  },
  "language_info": {
   "codemirror_mode": {
    "name": "ipython",
    "version": 2
   },
   "file_extension": ".py",
   "mimetype": "text/x-python",
   "name": "python",
   "nbconvert_exporter": "python",
   "pygments_lexer": "ipython2",
   "version": "2.7.10"
  }
 },
 "nbformat": 4,
 "nbformat_minor": 2
}
